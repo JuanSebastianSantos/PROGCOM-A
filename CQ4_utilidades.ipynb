{
  "nbformat": 4,
  "nbformat_minor": 0,
  "metadata": {
    "colab": {
      "provenance": [],
      "authorship_tag": "ABX9TyNjbaSW8JWEnNlnFIiH/4Cn",
      "include_colab_link": true
    },
    "kernelspec": {
      "name": "python3",
      "display_name": "Python 3"
    },
    "language_info": {
      "name": "python"
    }
  },
  "cells": [
    {
      "cell_type": "markdown",
      "metadata": {
        "id": "view-in-github",
        "colab_type": "text"
      },
      "source": [
        "<a href=\"https://colab.research.google.com/github/JuanSebastianSantos/PROGCOM-A/blob/main/CQ4_utilidades.ipynb\" target=\"_parent\"><img src=\"https://colab.research.google.com/assets/colab-badge.svg\" alt=\"Open In Colab\"/></a>"
      ]
    },
    {
      "cell_type": "code",
      "execution_count": null,
      "metadata": {
        "id": "NfHhByylMO6w"
      },
      "outputs": [],
      "source": [
        "import configuraciones\n",
        "\n",
        "def altura_pct(porcentaje):\n",
        "    return (configuraciones.ALTO / 100) * porcentaje\n",
        "\n",
        "def ancho_pct(porcentaje):\n",
        "    return (configuraciones.ANCHO / 100) * porcentaje\n",
        ""
      ]
    }
  ]
}