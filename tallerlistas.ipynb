{
  "nbformat": 4,
  "nbformat_minor": 0,
  "metadata": {
    "colab": {
      "provenance": [],
      "authorship_tag": "ABX9TyPRaHxqx7gKUJT3Vl1BG94K",
      "include_colab_link": true
    },
    "kernelspec": {
      "name": "python3",
      "display_name": "Python 3"
    },
    "language_info": {
      "name": "python"
    }
  },
  "cells": [
    {
      "cell_type": "markdown",
      "metadata": {
        "id": "view-in-github",
        "colab_type": "text"
      },
      "source": [
        "<a href=\"https://colab.research.google.com/github/JuanSebastianSantos/PROGCOM-A/blob/main/tallerlistas.ipynb\" target=\"_parent\"><img src=\"https://colab.research.google.com/assets/colab-badge.svg\" alt=\"Open In Colab\"/></a>"
      ]
    },
    {
      "cell_type": "code",
      "execution_count": null,
      "metadata": {
        "id": "g17W3UXMQ3TU"
      },
      "outputs": [],
      "source": []
    },
    {
      "cell_type": "code",
      "execution_count": null,
      "metadata": {
        "colab": {
          "base_uri": "https://localhost:8080/"
        },
        "id": "SyqG48nPygRb",
        "outputId": "06a1a423-6526-430e-8f83-1d0b6fdc6ac6"
      },
      "outputs": [
        {
          "output_type": "execute_result",
          "data": {
            "text/plain": [
              "[1, 4, 9, 16, 25, 36, 49, 64, 81, 100]"
            ]
          },
          "metadata": {},
          "execution_count": 7
        }
      ],
      "source": [
        "# 1. Crear una lista con los cuadrados de los números del 1 al 10\n",
        "cuadrados = [n**2 for n in range(1, 11)]\n",
        "cuadrados"
      ]
    },
    {
      "cell_type": "code",
      "source": [
        "# 2. Obtener una lista con los números pares del 0 al 20\n",
        "pares = [n for n in range(21) if n % 2 == 0]\n",
        "pares"
      ],
      "metadata": {
        "colab": {
          "base_uri": "https://localhost:8080/"
        },
        "id": "1hXyNDZK1Xau",
        "outputId": "23d68fe4-1a3a-4ab4-f94d-c4adfaea9190"
      },
      "execution_count": null,
      "outputs": [
        {
          "output_type": "execute_result",
          "data": {
            "text/plain": [
              "[0, 2, 4, 6, 8, 10, 12, 14, 16, 18, 20]"
            ]
          },
          "metadata": {},
          "execution_count": 8
        }
      ]
    },
    {
      "cell_type": "code",
      "source": [
        "# 3. Crear una lista con el doble de cada número del 1 al 5\n",
        "dobles = [n*2 for n in range(1,6)]\n",
        "dobles"
      ],
      "metadata": {
        "colab": {
          "base_uri": "https://localhost:8080/"
        },
        "id": "4zb44wOj1k7H",
        "outputId": "64551697-ae1b-4cac-c2c5-adde631ff3be"
      },
      "execution_count": null,
      "outputs": [
        {
          "output_type": "execute_result",
          "data": {
            "text/plain": [
              "[2, 4, 6, 8, 10]"
            ]
          },
          "metadata": {},
          "execution_count": 9
        }
      ]
    },
    {
      "cell_type": "code",
      "source": [
        "# 4. De la palabra \"programacion\", obtener solo las vocales\n",
        "palabra = \"programacion\"\n",
        "vocales = [letra for letra in palabra if letra in \"aeiou\"]\n",
        "vocales"
      ],
      "metadata": {
        "colab": {
          "base_uri": "https://localhost:8080/"
        },
        "id": "InY4VtYe16Wf",
        "outputId": "d83b9f82-2a46-4ad0-d4d0-f92c2de2c318"
      },
      "execution_count": null,
      "outputs": [
        {
          "output_type": "execute_result",
          "data": {
            "text/plain": [
              "['o', 'a', 'a', 'i', 'o']"
            ]
          },
          "metadata": {},
          "execution_count": 10
        }
      ]
    },
    {
      "cell_type": "code",
      "source": [
        "# 5. Dada la lista [\"python\", \"java\", \"c++\"], obtener otra lista con las palabras en mayúsculas\n",
        "lenguajes = [\"python\", \"java\", \"c++\"]\n",
        "mayusculas = [lenguaje.upper() for lenguaje in lenguajes]\n",
        "mayusculas\n"
      ],
      "metadata": {
        "colab": {
          "base_uri": "https://localhost:8080/"
        },
        "id": "igflr7WK2ef8",
        "outputId": "02b3847e-74d4-4c31-ad26-2d65bd9f24f5"
      },
      "execution_count": null,
      "outputs": [
        {
          "output_type": "execute_result",
          "data": {
            "text/plain": [
              "['PYTHON', 'JAVA', 'C++']"
            ]
          },
          "metadata": {},
          "execution_count": 11
        }
      ]
    },
    {
      "cell_type": "code",
      "source": [
        "# 6. Crear una lista con \"par\" o \"impar\" para los números del 1 al 10\n",
        "clasificacion = [\"par\" if n % 2 == 0 else \"impar\" for n in range(1, 11)]\n",
        "clasificacion"
      ],
      "metadata": {
        "colab": {
          "base_uri": "https://localhost:8080/"
        },
        "id": "wFawaue82786",
        "outputId": "a02da530-c3e4-49cd-f358-6b7bdd53cf32"
      },
      "execution_count": null,
      "outputs": [
        {
          "output_type": "stream",
          "name": "stdout",
          "text": [
            "['impar', 'par', 'impar', 'par', 'impar', 'par', 'impar', 'par', 'impar', 'par']\n"
          ]
        }
      ]
    },
    {
      "cell_type": "code",
      "source": [
        "# 7. Generar una lista de tuplas con el número y su cuadrado del 1 al 5\n",
        "tuplas = [(n, n**2) for n in range(1, 6)]\n",
        "tuplas"
      ],
      "metadata": {
        "colab": {
          "base_uri": "https://localhost:8080/"
        },
        "id": "nvqnUQIU2-dz",
        "outputId": "a526ccca-3492-45aa-f649-84d9c3a0b023"
      },
      "execution_count": null,
      "outputs": [
        {
          "output_type": "execute_result",
          "data": {
            "text/plain": [
              "[(1, 1), (2, 4), (3, 9), (4, 16), (5, 25)]"
            ]
          },
          "metadata": {},
          "execution_count": 16
        }
      ]
    },
    {
      "cell_type": "code",
      "source": [
        "# 8. Crear una lista con todas las combinaciones de letras en [\"a\",\"b\"] y números en [1,2,3]\n",
        "combinaciones = [(letra, numero) for letra in [\"a\", \"b\"] for numero in [1, 2, 3]]\n",
        "combinaciones"
      ],
      "metadata": {
        "colab": {
          "base_uri": "https://localhost:8080/"
        },
        "id": "s6Uxf9UJ3BdT",
        "outputId": "0b494db5-65af-4918-e385-8847ba353e37"
      },
      "execution_count": null,
      "outputs": [
        {
          "output_type": "execute_result",
          "data": {
            "text/plain": [
              "[('a', 1), ('a', 2), ('a', 3), ('b', 1), ('b', 2), ('b', 3)]"
            ]
          },
          "metadata": {},
          "execution_count": 15
        }
      ]
    },
    {
      "cell_type": "code",
      "source": [
        "# 9. De la lista [\"sol\", \"estrella\", \"mar\", \"planeta\"], obtener solo las palabras con más de 4 letras\n",
        "palabras = [\"sol\", \"estrella\", \"mar\", \"planeta\"]\n",
        "largas = [p for p in palabras if len(p) > 4]\n",
        "largas"
      ],
      "metadata": {
        "colab": {
          "base_uri": "https://localhost:8080/"
        },
        "id": "qvnFAARh3CMD",
        "outputId": "6df4515e-5446-45ab-fc17-20afeb9e4f18"
      },
      "execution_count": null,
      "outputs": [
        {
          "output_type": "execute_result",
          "data": {
            "text/plain": [
              "['estrella', 'planeta']"
            ]
          },
          "metadata": {},
          "execution_count": 14
        }
      ]
    },
    {
      "cell_type": "code",
      "source": [
        "# 10. Clasificar la temperatura de una lista\n",
        "temperaturas = [22, 27, 30, 25, 29, 31]\n",
        "clima = [\n",
        "    \"frío\" if t < 26 else \"templado\" if 26 <= t <= 29 else \"caliente\"\n",
        "    for t in temperaturas\n",
        "]\n",
        "clima"
      ],
      "metadata": {
        "colab": {
          "base_uri": "https://localhost:8080/"
        },
        "id": "43L9DNei3CfV",
        "outputId": "50ef4e5e-4309-48cd-adbb-cd0a9528452e"
      },
      "execution_count": null,
      "outputs": [
        {
          "output_type": "execute_result",
          "data": {
            "text/plain": [
              "['frío', 'templado', 'caliente', 'frío', 'templado', 'caliente']"
            ]
          },
          "metadata": {},
          "execution_count": 13
        }
      ]
    },
    {
      "cell_type": "code",
      "execution_count": null,
      "metadata": {
        "colab": {
          "base_uri": "https://localhost:8080/"
        },
        "outputId": "06a1a423-6526-430e-8f83-1d0b6fdc6ac6",
        "id": "hotSoN7oQ8Pd"
      },
      "outputs": [
        {
          "output_type": "execute_result",
          "data": {
            "text/plain": [
              "[1, 4, 9, 16, 25, 36, 49, 64, 81, 100]"
            ]
          },
          "metadata": {},
          "execution_count": 7
        }
      ],
      "source": [
        "# 1. Crear una lista con los cuadrados de los números del 1 al 10\n",
        "cuadrados = [n**2 for n in range(1, 11)]\n",
        "cuadrados"
      ]
    },
    {
      "cell_type": "code",
      "source": [
        "# 2. Obtener una lista con los números pares del 0 al 20\n",
        "pares = [n for n in range(21) if n % 2 == 0]\n",
        "pares"
      ],
      "metadata": {
        "colab": {
          "base_uri": "https://localhost:8080/"
        },
        "outputId": "23d68fe4-1a3a-4ab4-f94d-c4adfaea9190",
        "id": "H2Y0H4O3Q8Pd"
      },
      "execution_count": null,
      "outputs": [
        {
          "output_type": "execute_result",
          "data": {
            "text/plain": [
              "[0, 2, 4, 6, 8, 10, 12, 14, 16, 18, 20]"
            ]
          },
          "metadata": {},
          "execution_count": 8
        }
      ]
    },
    {
      "cell_type": "code",
      "source": [
        "# 3. Crear una lista con el doble de cada número del 1 al 5\n",
        "dobles = [n*2 for n in range(1,6)]\n",
        "dobles"
      ],
      "metadata": {
        "colab": {
          "base_uri": "https://localhost:8080/"
        },
        "outputId": "64551697-ae1b-4cac-c2c5-adde631ff3be",
        "id": "scmfPs4qQ8Pd"
      },
      "execution_count": null,
      "outputs": [
        {
          "output_type": "execute_result",
          "data": {
            "text/plain": [
              "[2, 4, 6, 8, 10]"
            ]
          },
          "metadata": {},
          "execution_count": 9
        }
      ]
    },
    {
      "cell_type": "code",
      "source": [
        "# 4. De la palabra \"programacion\", obtener solo las vocales\n",
        "palabra = \"programacion\"\n",
        "vocales = [letra for letra in palabra if letra in \"aeiou\"]\n",
        "vocales"
      ],
      "metadata": {
        "colab": {
          "base_uri": "https://localhost:8080/"
        },
        "outputId": "d83b9f82-2a46-4ad0-d4d0-f92c2de2c318",
        "id": "vsY7PFe0Q8Pd"
      },
      "execution_count": null,
      "outputs": [
        {
          "output_type": "execute_result",
          "data": {
            "text/plain": [
              "['o', 'a', 'a', 'i', 'o']"
            ]
          },
          "metadata": {},
          "execution_count": 10
        }
      ]
    },
    {
      "cell_type": "code",
      "source": [
        "# 5. Dada la lista [\"python\", \"java\", \"c++\"], obtener otra lista con las palabras en mayúsculas\n",
        "lenguajes = [\"python\", \"java\", \"c++\"]\n",
        "mayusculas = [lenguaje.upper() for lenguaje in lenguajes]\n",
        "mayusculas\n"
      ],
      "metadata": {
        "colab": {
          "base_uri": "https://localhost:8080/"
        },
        "outputId": "02b3847e-74d4-4c31-ad26-2d65bd9f24f5",
        "id": "wZTI-xhpQ8Pd"
      },
      "execution_count": null,
      "outputs": [
        {
          "output_type": "execute_result",
          "data": {
            "text/plain": [
              "['PYTHON', 'JAVA', 'C++']"
            ]
          },
          "metadata": {},
          "execution_count": 11
        }
      ]
    },
    {
      "cell_type": "code",
      "source": [
        "# 6. Crear una lista con \"par\" o \"impar\" para los números del 1 al 10\n",
        "clasificacion = [\"par\" if n % 2 == 0 else \"impar\" for n in range(1, 11)]\n",
        "clasificacion"
      ],
      "metadata": {
        "colab": {
          "base_uri": "https://localhost:8080/"
        },
        "outputId": "a02da530-c3e4-49cd-f358-6b7bdd53cf32",
        "id": "m2zxDccyQ8Pd"
      },
      "execution_count": null,
      "outputs": [
        {
          "output_type": "stream",
          "name": "stdout",
          "text": [
            "['impar', 'par', 'impar', 'par', 'impar', 'par', 'impar', 'par', 'impar', 'par']\n"
          ]
        }
      ]
    },
    {
      "cell_type": "code",
      "source": [
        "# 7. Generar una lista de tuplas con el número y su cuadrado del 1 al 5\n",
        "tuplas = [(n, n**2) for n in range(1, 6)]\n",
        "tuplas"
      ],
      "metadata": {
        "colab": {
          "base_uri": "https://localhost:8080/"
        },
        "outputId": "a526ccca-3492-45aa-f649-84d9c3a0b023",
        "id": "zKDvnQ9yQ8Pd"
      },
      "execution_count": null,
      "outputs": [
        {
          "output_type": "execute_result",
          "data": {
            "text/plain": [
              "[(1, 1), (2, 4), (3, 9), (4, 16), (5, 25)]"
            ]
          },
          "metadata": {},
          "execution_count": 16
        }
      ]
    },
    {
      "cell_type": "code",
      "source": [
        "# 8. Crear una lista con todas las combinaciones de letras en [\"a\",\"b\"] y números en [1,2,3]\n",
        "combinaciones = [(letra, numero) for letra in [\"a\", \"b\"] for numero in [1, 2, 3]]\n",
        "combinaciones"
      ],
      "metadata": {
        "colab": {
          "base_uri": "https://localhost:8080/"
        },
        "outputId": "0b494db5-65af-4918-e385-8847ba353e37",
        "id": "2G2cjRetQ8Pd"
      },
      "execution_count": null,
      "outputs": [
        {
          "output_type": "execute_result",
          "data": {
            "text/plain": [
              "[('a', 1), ('a', 2), ('a', 3), ('b', 1), ('b', 2), ('b', 3)]"
            ]
          },
          "metadata": {},
          "execution_count": 15
        }
      ]
    },
    {
      "cell_type": "code",
      "source": [
        "# 9. De la lista [\"sol\", \"estrella\", \"mar\", \"planeta\"], obtener solo las palabras con más de 4 letras\n",
        "palabras = [\"sol\", \"estrella\", \"mar\", \"planeta\"]\n",
        "largas = [p for p in palabras if len(p) > 4]\n",
        "largas"
      ],
      "metadata": {
        "colab": {
          "base_uri": "https://localhost:8080/"
        },
        "outputId": "6df4515e-5446-45ab-fc17-20afeb9e4f18",
        "id": "aAuEEg0-Q8Pd"
      },
      "execution_count": null,
      "outputs": [
        {
          "output_type": "execute_result",
          "data": {
            "text/plain": [
              "['estrella', 'planeta']"
            ]
          },
          "metadata": {},
          "execution_count": 14
        }
      ]
    },
    {
      "cell_type": "code",
      "source": [
        "# 10. Clasificar la temperatura de una lista\n",
        "temperaturas = [22, 27, 30, 25, 29, 31]\n",
        "clima = [\n",
        "    \"frío\" if t < 26 else \"templado\" if 26 <= t <= 29 else \"caliente\"\n",
        "    for t in temperaturas\n",
        "]\n",
        "clima"
      ],
      "metadata": {
        "colab": {
          "base_uri": "https://localhost:8080/"
        },
        "outputId": "50ef4e5e-4309-48cd-adbb-cd0a9528452e",
        "id": "7tijEfbNQ8Pd"
      },
      "execution_count": null,
      "outputs": [
        {
          "output_type": "execute_result",
          "data": {
            "text/plain": [
              "['frío', 'templado', 'caliente', 'frío', 'templado', 'caliente']"
            ]
          },
          "metadata": {},
          "execution_count": 13
        }
      ]
    },
    {
      "cell_type": "code",
      "execution_count": null,
      "metadata": {
        "colab": {
          "base_uri": "https://localhost:8080/"
        },
        "outputId": "06a1a423-6526-430e-8f83-1d0b6fdc6ac6",
        "id": "qDxkoyk5Q8-c"
      },
      "outputs": [
        {
          "output_type": "execute_result",
          "data": {
            "text/plain": [
              "[1, 4, 9, 16, 25, 36, 49, 64, 81, 100]"
            ]
          },
          "metadata": {},
          "execution_count": 7
        }
      ],
      "source": [
        "# 1. Crear una lista con los cuadrados de los números del 1 al 10\n",
        "cuadrados = [n**2 for n in range(1, 11)]\n",
        "cuadrados"
      ]
    },
    {
      "cell_type": "code",
      "source": [
        "# 2. Obtener una lista con los números pares del 0 al 20\n",
        "pares = [n for n in range(21) if n % 2 == 0]\n",
        "pares"
      ],
      "metadata": {
        "colab": {
          "base_uri": "https://localhost:8080/"
        },
        "outputId": "23d68fe4-1a3a-4ab4-f94d-c4adfaea9190",
        "id": "Iy3NmgbzQ8-c"
      },
      "execution_count": null,
      "outputs": [
        {
          "output_type": "execute_result",
          "data": {
            "text/plain": [
              "[0, 2, 4, 6, 8, 10, 12, 14, 16, 18, 20]"
            ]
          },
          "metadata": {},
          "execution_count": 8
        }
      ]
    },
    {
      "cell_type": "code",
      "source": [
        "# 3. Crear una lista con el doble de cada número del 1 al 5\n",
        "dobles = [n*2 for n in range(1,6)]\n",
        "dobles"
      ],
      "metadata": {
        "colab": {
          "base_uri": "https://localhost:8080/"
        },
        "outputId": "64551697-ae1b-4cac-c2c5-adde631ff3be",
        "id": "ad-P3Y_NQ8-c"
      },
      "execution_count": null,
      "outputs": [
        {
          "output_type": "execute_result",
          "data": {
            "text/plain": [
              "[2, 4, 6, 8, 10]"
            ]
          },
          "metadata": {},
          "execution_count": 9
        }
      ]
    },
    {
      "cell_type": "code",
      "source": [
        "# 4. De la palabra \"programacion\", obtener solo las vocales\n",
        "palabra = \"programacion\"\n",
        "vocales = [letra for letra in palabra if letra in \"aeiou\"]\n",
        "vocales"
      ],
      "metadata": {
        "colab": {
          "base_uri": "https://localhost:8080/"
        },
        "outputId": "d83b9f82-2a46-4ad0-d4d0-f92c2de2c318",
        "id": "Iz0wbSx0Q8-d"
      },
      "execution_count": null,
      "outputs": [
        {
          "output_type": "execute_result",
          "data": {
            "text/plain": [
              "['o', 'a', 'a', 'i', 'o']"
            ]
          },
          "metadata": {},
          "execution_count": 10
        }
      ]
    },
    {
      "cell_type": "code",
      "source": [
        "# 5. Dada la lista [\"python\", \"java\", \"c++\"], obtener otra lista con las palabras en mayúsculas\n",
        "lenguajes = [\"python\", \"java\", \"c++\"]\n",
        "mayusculas = [lenguaje.upper() for lenguaje in lenguajes]\n",
        "mayusculas\n"
      ],
      "metadata": {
        "colab": {
          "base_uri": "https://localhost:8080/"
        },
        "outputId": "02b3847e-74d4-4c31-ad26-2d65bd9f24f5",
        "id": "WZx04-u2Q8-d"
      },
      "execution_count": null,
      "outputs": [
        {
          "output_type": "execute_result",
          "data": {
            "text/plain": [
              "['PYTHON', 'JAVA', 'C++']"
            ]
          },
          "metadata": {},
          "execution_count": 11
        }
      ]
    },
    {
      "cell_type": "code",
      "source": [
        "# 6. Crear una lista con \"par\" o \"impar\" para los números del 1 al 10\n",
        "clasificacion = [\"par\" if n % 2 == 0 else \"impar\" for n in range(1, 11)]\n",
        "clasificacion"
      ],
      "metadata": {
        "colab": {
          "base_uri": "https://localhost:8080/"
        },
        "outputId": "a02da530-c3e4-49cd-f358-6b7bdd53cf32",
        "id": "ZtlVZORKQ8-d"
      },
      "execution_count": null,
      "outputs": [
        {
          "output_type": "stream",
          "name": "stdout",
          "text": [
            "['impar', 'par', 'impar', 'par', 'impar', 'par', 'impar', 'par', 'impar', 'par']\n"
          ]
        }
      ]
    },
    {
      "cell_type": "code",
      "source": [
        "# 7. Generar una lista de tuplas con el número y su cuadrado del 1 al 5\n",
        "tuplas = [(n, n**2) for n in range(1, 6)]\n",
        "tuplas"
      ],
      "metadata": {
        "colab": {
          "base_uri": "https://localhost:8080/"
        },
        "outputId": "a526ccca-3492-45aa-f649-84d9c3a0b023",
        "id": "vygX9nqaQ8-d"
      },
      "execution_count": null,
      "outputs": [
        {
          "output_type": "execute_result",
          "data": {
            "text/plain": [
              "[(1, 1), (2, 4), (3, 9), (4, 16), (5, 25)]"
            ]
          },
          "metadata": {},
          "execution_count": 16
        }
      ]
    },
    {
      "cell_type": "code",
      "source": [
        "# 8. Crear una lista con todas las combinaciones de letras en [\"a\",\"b\"] y números en [1,2,3]\n",
        "combinaciones = [(letra, numero) for letra in [\"a\", \"b\"] for numero in [1, 2, 3]]\n",
        "combinaciones"
      ],
      "metadata": {
        "colab": {
          "base_uri": "https://localhost:8080/"
        },
        "outputId": "0b494db5-65af-4918-e385-8847ba353e37",
        "id": "RNmKQvxmQ8-d"
      },
      "execution_count": null,
      "outputs": [
        {
          "output_type": "execute_result",
          "data": {
            "text/plain": [
              "[('a', 1), ('a', 2), ('a', 3), ('b', 1), ('b', 2), ('b', 3)]"
            ]
          },
          "metadata": {},
          "execution_count": 15
        }
      ]
    },
    {
      "cell_type": "code",
      "source": [
        "# 9. De la lista [\"sol\", \"estrella\", \"mar\", \"planeta\"], obtener solo las palabras con más de 4 letras\n",
        "palabras = [\"sol\", \"estrella\", \"mar\", \"planeta\"]\n",
        "largas = [p for p in palabras if len(p) > 4]\n",
        "largas"
      ],
      "metadata": {
        "colab": {
          "base_uri": "https://localhost:8080/"
        },
        "outputId": "6df4515e-5446-45ab-fc17-20afeb9e4f18",
        "id": "YlNYsRd5Q8-d"
      },
      "execution_count": null,
      "outputs": [
        {
          "output_type": "execute_result",
          "data": {
            "text/plain": [
              "['estrella', 'planeta']"
            ]
          },
          "metadata": {},
          "execution_count": 14
        }
      ]
    },
    {
      "cell_type": "code",
      "source": [
        "# 10. Clasificar la temperatura de una lista\n",
        "temperaturas = [22, 27, 30, 25, 29, 31]\n",
        "clima = [\n",
        "    \"frío\" if t < 26 else \"templado\" if 26 <= t <= 29 else \"caliente\"\n",
        "    for t in temperaturas\n",
        "]\n",
        "clima"
      ],
      "metadata": {
        "colab": {
          "base_uri": "https://localhost:8080/"
        },
        "outputId": "50ef4e5e-4309-48cd-adbb-cd0a9528452e",
        "id": "IE4iv-oWQ8-d"
      },
      "execution_count": null,
      "outputs": [
        {
          "output_type": "execute_result",
          "data": {
            "text/plain": [
              "['frío', 'templado', 'caliente', 'frío', 'templado', 'caliente']"
            ]
          },
          "metadata": {},
          "execution_count": 13
        }
      ]
    }
  ]
}