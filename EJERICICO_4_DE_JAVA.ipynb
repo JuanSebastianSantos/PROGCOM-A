{
  "nbformat": 4,
  "nbformat_minor": 0,
  "metadata": {
    "colab": {
      "provenance": [],
      "authorship_tag": "ABX9TyPVWgeOs3lzJDulHErS+eMj",
      "include_colab_link": true
    },
    "kernelspec": {
      "name": "python3",
      "display_name": "Python 3"
    },
    "language_info": {
      "name": "python"
    }
  },
  "cells": [
    {
      "cell_type": "markdown",
      "metadata": {
        "id": "view-in-github",
        "colab_type": "text"
      },
      "source": [
        "<a href=\"https://colab.research.google.com/github/JuanSebastianSantos/PROGCOM-A/blob/main/EJERICICO_4_DE_JAVA.ipynb\" target=\"_parent\"><img src=\"https://colab.research.google.com/assets/colab-badge.svg\" alt=\"Open In Colab\"/></a>"
      ]
    },
    {
      "cell_type": "markdown",
      "source": [
        "EJERICICO 4 DE JAVA"
      ],
      "metadata": {
        "id": "RpGUYlaePIQK"
      }
    },
    {
      "cell_type": "code",
      "execution_count": null,
      "metadata": {
        "id": "u56_tmhFPFMc"
      },
      "outputs": [],
      "source": [
        "~import java.util.*; // importamso pasrqa dpoder utiliozar el sscanner\n",
        "~\n",
        "~public class Main {\n",
        "~    public static void main(String[] args) {\n",
        "~        // imprimimos por etsetica al usario donde le pedimos su califcacion\n",
        "~        System.out.println(\"ingrese su calificacion (0 - 100): \");\n",
        "~        Scanner input = new Scanner(System.in); // se ingresa la nota\n",
        "~        int nota = input.nextInt(); // guardamos la calificacion en la variable nota y claraamnete la volvemos entero\n",
        "~\n",
        "~        // 1 if / else\n",
        "~        // evaluamos si la nota es mayor o igual a 60 para aprobar, si no reprueba y pailas hermano jajas\n",
        "~        if (nota >= 60) { // se hace la operacion donde se termina  si es mayor o igual a la nota de 60\n",
        "~            System.out.println(\"con if/else: aprobado relajese papi\"); // si se cumple se imprme qu epaso el año\n",
        "~        } else {\n",
        "~            System.out.println(\"con if/else: reprobado\");// si no se cumple pailas Jsjaksj\n",
        "~        }\n",
        "~\n",
        "~        // 2 operador ternario\n",
        "~        // usamos el operador(?:)en una sola linea para decidir el mensaje\n",
        "~        String resultado = (nota >= 60) ? \"aprobado relajese papi\" : \"reprobado\"; // SE HAce la repsectiva iperacion dodne se dtermina el aporbado y reprobado\n",
        "~        System.out.println(\"con ternario: \" + resultado); // se imprem el resultado\n",
        "~\n",
        "~        // 3 switch (con comparacion indirecta)\n",
        "~        // convertimos la condicion en 1 (aprobado) o 0 (reprobado)\n",
        "~        switch (nota >= 60 ? 1 : 0) {\n",
        "~            case 1:\n",
        "~                System.out.println(\"con switch: aprobado relajese papi\"); // si cumple con el 1 impime el mensaje del 1\n",
        "~                break;\n",
        "~            case 0:\n",
        "~                System.out.println(\"con switch: reprobado\"); // y si soslo cumple la del cero imprime la del 0 skajskaj\n",
        "~                break;\n",
        "~        }\n",
        "\n",
        "        input.close(); // cerramos el scanner MUAK\n",
        "    }\n",
        "}\n",
        "\n"
      ]
    }
  ]
}