{
  "nbformat": 4,
  "nbformat_minor": 0,
  "metadata": {
    "colab": {
      "provenance": [],
      "authorship_tag": "ABX9TyMmw8VYdLgTFtHQVkjpXZXY",
      "include_colab_link": true
    },
    "kernelspec": {
      "name": "python3",
      "display_name": "Python 3"
    },
    "language_info": {
      "name": "python"
    }
  },
  "cells": [
    {
      "cell_type": "markdown",
      "metadata": {
        "id": "view-in-github",
        "colab_type": "text"
      },
      "source": [
        "<a href=\"https://colab.research.google.com/github/JuanSebastianSantos/PROGCOM-A/blob/main/Q3.ipynb\" target=\"_parent\"><img src=\"https://colab.research.google.com/assets/colab-badge.svg\" alt=\"Open In Colab\"/></a>"
      ]
    },
    {
      "cell_type": "code",
      "execution_count": null,
      "metadata": {
        "id": "zhgXfHk792ot"
      },
      "outputs": [],
      "source": [
        "def calcular_vpn(flujos, tasa_descuento):\n",
        "    \"\"\"\n",
        "    Calcula el Valor Presente Neto (VPN).\n",
        "    flujos: lista de flujos de caja (primer valor = inversión inicial).\n",
        "    tasa_descuento: tasa en % anual.\n",
        "    \"\"\"\n",
        "    tasa = tasa_descuento / 100\n",
        "    vpn = 0\n",
        "    for t, flujo in enumerate(flujos):\n",
        "        vpn += flujo / ((1 + tasa) ** t)\n",
        "    return vpn\n",
        "\n",
        "\n",
        "def calcular_tir(flujos, tol=1e-6, max_iter=1000):\n",
        "    \"\"\"\n",
        "    Calcula la Tasa Interna de Retorno (TIR) usando búsqueda binaria.\n",
        "    Retorna la tasa en %.\n",
        "    \"\"\"\n",
        "    # Buscamos una tasa entre -0.99 (casi -100%) y 1 (100%)\n",
        "    low, high = -0.99, 1.0\n",
        "\n",
        "    for _ in range(max_iter):\n",
        "        mid = (low + high) / 2\n",
        "        vpn_mid = sum(flujo / ((1 + mid) ** t) for t, flujo in enumerate(flujos))\n",
        "        if abs(vpn_mid) < tol:\n",
        "            return mid * 100  # en %\n",
        "        if vpn_mid > 0:\n",
        "            low = mid\n",
        "        else:\n",
        "            high = mid\n",
        "    return mid * 100  # devuelve lo que encontró\n",
        "\n",
        "\n",
        "def main():\n",
        "    print(\"=== Evaluación de Proyecto de Inversión ===\")\n",
        "\n",
        "    # Ejemplo: inversión inicial y flujos futuros\n",
        "    flujos = [-10000, 3000, 4000, 5000, 6000]  # año 0, 1, 2, 3, 4\n",
        "    tasa_descuento = 10  # % anual\n",
        "\n",
        "    print(f\"Flujos de caja: {flujos}\")\n",
        "    print(f\"Tasa de descuento: {tasa_descuento}%\")\n",
        "\n",
        "    vpn = calcular_vpn(flujos, tasa_descuento)\n",
        "    tir = calcular_tir(flujos)\n",
        "\n",
        "    print(f\"\\nValor Presente Neto (VPN): ${vpn:,.2f}\")\n",
        "    print(f\"Tasa Interna de Retorno (TIR): {tir:.2f}%\")\n",
        "\n",
        "    if vpn > 0:\n",
        "        print(\"✅ El proyecto es rentable (VPN > 0)\")\n",
        "    else:\n",
        "        print(\"❌ El proyecto NO es rentable (VPN <= 0)\")\n",
        "\n",
        "\n",
        "# Ejecutar directamente\n",
        "main()"
      ]
    }
  ]
}