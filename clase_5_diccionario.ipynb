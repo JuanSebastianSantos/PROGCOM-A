{
  "nbformat": 4,
  "nbformat_minor": 0,
  "metadata": {
    "colab": {
      "provenance": [],
      "authorship_tag": "ABX9TyOhMvSc/8P3QE1AADr14Evx",
      "include_colab_link": true
    },
    "kernelspec": {
      "name": "python3",
      "display_name": "Python 3"
    },
    "language_info": {
      "name": "python"
    }
  },
  "cells": [
    {
      "cell_type": "markdown",
      "metadata": {
        "id": "view-in-github",
        "colab_type": "text"
      },
      "source": [
        "<a href=\"https://colab.research.google.com/github/JuanSebastianSantos/PROGCOM-A/blob/main/clase_5_diccionario.ipynb\" target=\"_parent\"><img src=\"https://colab.research.google.com/assets/colab-badge.svg\" alt=\"Open In Colab\"/></a>"
      ]
    },
    {
      "cell_type": "code",
      "execution_count": null,
      "metadata": {
        "id": "JKUuJKAG7dRU"
      },
      "outputs": [],
      "source": [
        "DICCIONARIOS\n",
        "\n",
        "Un tipo de datos que tiene como sintaxis:\n",
        "\n",
        "Nombre_dict={}\n",
        "dict2={\"clave\" : valor}\n",
        "La \"clave o llave\": siempre es alfanumérica\n",
        "Valor: Puede ser cualquier tipo de dato\n",
        "Posee las siguientes características\n",
        "\n",
        "No tiene indexación\n",
        "\n",
        "Lista=list(range(1,11))\n",
        "Lista[5]\n",
        "\n",
        "6\n",
        "\n",
        "liga_justicia={\"superhéroes\":[\"Supermán\",\"Batman\",\"Wonder Woman\"],\n",
        "               \"villanos\": [\"Lex Luthor\", \"Joker\", \"Cheetah\"],\n",
        "               \"identidad secreta\":[\"Clark Kent\", \"Bruce Wayne\", \"Diana Prince\"]}\n",
        "\n",
        "\n",
        "type(liga_justicia)\n",
        "\n",
        "dict\n",
        "\n",
        "liga_justicia\n",
        "\n",
        "{'superhéroes': ['Supermán', 'Batman', 'Wonder Woman'],\n",
        " 'villanos': ['Lex Luthor', 'Joker', 'Cheetah'],\n",
        " 'identidad secreta': ['Clark Kent', 'Bruce Wayne', 'Diana Prince']}\n",
        "\n",
        "liga_justicia [\"identidad secreta\"] [2]\n",
        "\n",
        "'Diana Prince'\n",
        "Puede almacenar cualquier tipo de valor\n",
        "Es mutable\n",
        "\n",
        "(print(\"la identidad secreta de batman es:\", liga_justicia [\"identidad secreta\"][1]))\n",
        "\n",
        "la identidad secreta de batman es: Bruce Wayne\n",
        ".keys(): Método de los diccionarios que me permite adquirir todas las llaves o claves del diccionario\n",
        "\n",
        ".clear(): Método de los diccionarios que limpia todo el codigo mencionado\n",
        "\n",
        ".fromkeys(): Crea un nuevo diccionario de llaves itereavles y variables según lo que este en el (), solo se pueden insertar datos tipo string\n",
        "\n",
        "\n",
        "liga_justicia.keys()\n",
        "\n",
        "dict_keys(['superhéroes', 'villanos', 'identidad secreta'])\n",
        "\n",
        "liga_justicia.clear()\n",
        "\n",
        "\n",
        "liga_justicia.copy()\n",
        "\n",
        "{}\n",
        "\n",
        "liga_justicia.fromkeys (\"superheroes\")\n",
        "\n",
        "{'s': None, 'u': None, 'p': None, 'e': None, 'r': None, 'h': None, 'o': None}"
      ]
    }
  ]
}