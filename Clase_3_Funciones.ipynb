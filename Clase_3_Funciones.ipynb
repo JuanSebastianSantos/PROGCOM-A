{
  "nbformat": 4,
  "nbformat_minor": 0,
  "metadata": {
    "colab": {
      "provenance": [],
      "authorship_tag": "ABX9TyNuv1E1aqb/QnlSlUr3uC5/",
      "include_colab_link": true
    },
    "kernelspec": {
      "name": "python3",
      "display_name": "Python 3"
    },
    "language_info": {
      "name": "python"
    }
  },
  "cells": [
    {
      "cell_type": "markdown",
      "metadata": {
        "id": "view-in-github",
        "colab_type": "text"
      },
      "source": [
        "<a href=\"https://colab.research.google.com/github/JuanSebastianSantos/PROGCOM-A/blob/main/Clase_3_Funciones.ipynb\" target=\"_parent\"><img src=\"https://colab.research.google.com/assets/colab-badge.svg\" alt=\"Open In Colab\"/></a>"
      ]
    },
    {
      "cell_type": "markdown",
      "source": [
        "#FUNCIONES\n",
        "Copiado dinamico.\n",
        "Dio Nacimiento a un nuevo paradigma de programacion llamado programacion modular.\n",
        "\n",
        "##Forma General de programar funciones.\n",
        "\n",
        "```\n",
        "def(nombre de funcion)(p, p2, p3...pn)\n",
        "   donde p,p2,p3...pn: son parametros\n",
        "```\n"
      ],
      "metadata": {
        "id": "GxTq-7bB5PP1"
      }
    },
    {
      "cell_type": "markdown",
      "source": [
        "\n",
        "\n",
        "1.   list()\n",
        "2.   Len()\n",
        "3. print()\n",
        "4. append()#Metodo\n",
        "5. int()\n",
        "6. Input"
      ],
      "metadata": {
        "id": "yrQKhy1H5fUE"
      }
    },
    {
      "cell_type": "markdown",
      "source": [
        "##Tipos de funciones\n",
        "1. Sin parametros, sin retorno\n",
        "2. Sin parametros, con retornos\n",
        "3. Con parametros, sin retorno\n",
        "4. Con parametros, con retorno"
      ],
      "metadata": {
        "id": "ZDTwXtDp5so0"
      }
    },
    {
      "cell_type": "markdown",
      "source": [
        "###1. Sin parametros, sin retorno\n",
        "se emplea como copiado dimamico"
      ],
      "metadata": {
        "id": "eF31DJiU6LdE"
      }
    },
    {
      "cell_type": "code",
      "source": [
        "#Ejemplo: Entrada de cajero electronico\n",
        "def cajero():# Esto significa que es sin parametros\n",
        "  print(\"Bienvenido a DaviUNAB\")\n",
        "  print(\"Estas son las operaciones que puede realizar\")\n",
        "  print(\"1. Retirar\\n2. Transferencia\\n3. Denunciar\\n4. Operaciones sin tarjeta\")"
      ],
      "metadata": {
        "id": "v5Mgi14u6kJz"
      },
      "execution_count": null,
      "outputs": []
    }
  ]
}