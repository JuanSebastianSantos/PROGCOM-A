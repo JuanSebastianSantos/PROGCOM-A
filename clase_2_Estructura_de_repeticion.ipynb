{
  "nbformat": 4,
  "nbformat_minor": 0,
  "metadata": {
    "colab": {
      "provenance": [],
      "authorship_tag": "ABX9TyMqmgxfUW62MB/n13QlE+8R",
      "include_colab_link": true
    },
    "kernelspec": {
      "name": "python3",
      "display_name": "Python 3"
    },
    "language_info": {
      "name": "python"
    }
  },
  "cells": [
    {
      "cell_type": "markdown",
      "metadata": {
        "id": "view-in-github",
        "colab_type": "text"
      },
      "source": [
        "<a href=\"https://colab.research.google.com/github/JuanSebastianSantos/PROGCOM-A/blob/main/clase_2_Estructura_de_repeticion.ipynb\" target=\"_parent\"><img src=\"https://colab.research.google.com/assets/colab-badge.svg\" alt=\"Open In Colab\"/></a>"
      ]
    },
    {
      "cell_type": "markdown",
      "source": [
        "#estructuras de repeticion\n",
        "perimite repetir una o mas acciones de un acuerdo con una condicion ( mientras se cumpla condicion)"
      ],
      "metadata": {
        "id": "PJpmLzZZQoug"
      }
    },
    {
      "cell_type": "markdown",
      "source": [
        "## estructura para-for\n",
        "\n",
        "\n",
        "1. cuando se sabe cuantas veces se trepite una accion.\n",
        "2. esta conformado por una condiccion inicial ( CI)\n",
        "una condicion final (FI) Y PASOS (frecuencia de repeticon)\n",
        "3. esta estructura no se dentendra, hasta alcanzar CF-1\n",
        "\n",
        "Estructura general de el for\n",
        "\n",
        "\n",
        "```\n",
        "for(variable) in range(CI,CF+1, paso):\n",
        "  Se repite (CF+1-CI)\n",
        "\n",
        "```\n",
        "Estructura resumida de el for\n",
        "\n",
        "\n",
        "```\n",
        "for(variable)in range(cantidad):\n",
        "  Se repite cantidad de veces una accion\n",
        "```\n",
        "Estructura for como iteracion\n",
        "1. para (for) itarea tantas veces, como elementos tenga la lista\n",
        "2. la variable toma el valor de cada elemento de la lista por iteracion\n",
        "\n",
        "\n",
        "```\n",
        "Lista =[1,2,3,4,5]\n",
        "for( variable) in lista:\n",
        "    Se repite len(lista)\n",
        "```\n",
        "\n",
        "\n",
        "\n",
        "\n",
        "\n",
        "\n"
      ],
      "metadata": {
        "id": "PvcelTgqQ53Y"
      }
    },
    {
      "cell_type": "code",
      "execution_count": 2,
      "metadata": {
        "colab": {
          "base_uri": "https://localhost:8080/"
        },
        "id": "qhfubfaDKLkz",
        "outputId": "91d2a603-f82f-4db3-fd99-07f5f79d0893"
      },
      "outputs": [
        {
          "name": "stdout",
          "output_type": "stream",
          "text": [
            "digita un numero:7\n"
          ]
        }
      ],
      "source": [
        "#hacer la tabla de multiplicar de un umero n\n",
        "n=int(input(\"digita un numero:\"))"
      ]
    },
    {
      "cell_type": "code",
      "source": [
        "print(f\"tabla del {n}\")\n",
        "for holitas in range(1,11,1):\n",
        "    print(f\"{n} x {holitas} = {n*holitas}\")"
      ],
      "metadata": {
        "colab": {
          "base_uri": "https://localhost:8080/"
        },
        "id": "u15EFW2PT5Z-",
        "outputId": "5def29a5-ce4d-4d7c-a92b-21c8aca392f2"
      },
      "execution_count": 3,
      "outputs": [
        {
          "output_type": "stream",
          "name": "stdout",
          "text": [
            "tabla del 7\n",
            "7 x 1 = 7\n",
            "7 x 2 = 14\n",
            "7 x 3 = 21\n",
            "7 x 4 = 28\n",
            "7 x 5 = 35\n",
            "7 x 6 = 42\n",
            "7 x 7 = 49\n",
            "7 x 8 = 56\n",
            "7 x 9 = 63\n",
            "7 x 10 = 70\n"
          ]
        }
      ]
    },
    {
      "cell_type": "code",
      "source": [
        "print (\"tablas de el 1 al 10\")\n",
        "for tabla in range ( 1,11,1):\n",
        "  print(f\"tabla del {tabla}\")\n",
        "    for numero in range (1,11):\n",
        "       print(f\"{tabla}x  {numero}  = {tabla*numero}\")\n",
        "       print(\"\")\n"
      ],
      "metadata": {
        "colab": {
          "base_uri": "https://localhost:8080/",
          "height": 106
        },
        "id": "dqQPSDrBWiSd",
        "outputId": "1d1b8a58-c18b-4d35-89e7-80c6422bf66e"
      },
      "execution_count": 4,
      "outputs": [
        {
          "output_type": "error",
          "ename": "IndentationError",
          "evalue": "unexpected indent (ipython-input-388672093.py, line 4)",
          "traceback": [
            "\u001b[0;36m  File \u001b[0;32m\"/tmp/ipython-input-388672093.py\"\u001b[0;36m, line \u001b[0;32m4\u001b[0m\n\u001b[0;31m    for numero in range (1,11):\u001b[0m\n\u001b[0m    ^\u001b[0m\n\u001b[0;31mIndentationError\u001b[0m\u001b[0;31m:\u001b[0m unexpected indent\n"
          ]
        }
      ]
    },
    {
      "cell_type": "code",
      "source": [
        "print(f\"tabla del {n}\")\n",
        "for holitas in  range(10):\n",
        "  print(f\"{n} x {holitas+1} = {n*(holitas+1)}\")"
      ],
      "metadata": {
        "colab": {
          "base_uri": "https://localhost:8080/"
        },
        "id": "yCmQMeSeZKkL",
        "outputId": "ab817996-1ba6-4213-ac76-67a941af7b14"
      },
      "execution_count": 5,
      "outputs": [
        {
          "output_type": "stream",
          "name": "stdout",
          "text": [
            "tabla del 7\n",
            "7 x 1 = 7\n",
            "7 x 2 = 14\n",
            "7 x 3 = 21\n",
            "7 x 4 = 28\n",
            "7 x 5 = 35\n",
            "7 x 6 = 42\n",
            "7 x 7 = 49\n",
            "7 x 8 = 56\n",
            "7 x 9 = 63\n",
            "7 x 10 = 70\n"
          ]
        }
      ]
    }
  ]
}