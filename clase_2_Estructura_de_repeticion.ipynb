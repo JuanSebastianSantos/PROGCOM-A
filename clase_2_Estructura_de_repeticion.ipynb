{
  "nbformat": 4,
  "nbformat_minor": 0,
  "metadata": {
    "colab": {
      "provenance": [],
      "authorship_tag": "ABX9TyOQ20L8pfn3QcbwTrgc0tih",
      "include_colab_link": true
    },
    "kernelspec": {
      "name": "python3",
      "display_name": "Python 3"
    },
    "language_info": {
      "name": "python"
    }
  },
  "cells": [
    {
      "cell_type": "markdown",
      "metadata": {
        "id": "view-in-github",
        "colab_type": "text"
      },
      "source": [
        "<a href=\"https://colab.research.google.com/github/JuanSebastianSantos/PROGCOM-A/blob/main/clase_2_Estructura_de_repeticion.ipynb\" target=\"_parent\"><img src=\"https://colab.research.google.com/assets/colab-badge.svg\" alt=\"Open In Colab\"/></a>"
      ]
    },
    {
      "cell_type": "markdown",
      "source": [
        "#estructuras de repeticion\n",
        "perimite repetir una o mas acciones de un acuerdo con una condicion ( mientras se cumpla condicion)"
      ],
      "metadata": {
        "id": "PJpmLzZZQoug"
      }
    },
    {
      "cell_type": "markdown",
      "source": [
        "## estructura para-for\n",
        "\n",
        "\n",
        "1. cuando se sabe cuantas veces se trepite una accion.\n",
        "2. esta conformado por una condiccion inicial ( CI)\n",
        "una condicion final (FI) Y PASOS (frecuencia de repeticon)\n",
        "3. esta estructura no se dentendra, hasta alcanzar CF-1\n",
        "\n",
        "Estructura general de el for\n",
        "\n",
        "\n",
        "```\n",
        "for(variable) in range(CI,CF+1, paso):\n",
        "  Se repite (CF+1-CI)\n",
        "\n",
        "```\n",
        "Estructura resumida de el for\n",
        "\n",
        "\n",
        "```\n",
        "for(variable)in range(cantidad):\n",
        "  Se repite cantidad de veces una accion\n",
        "```\n",
        "Estructura for como iteracion\n",
        "1. para (for) itarea tantas veces, como elementos tenga la lista\n",
        "2. la variable toma el valor de cada elemento de la lista por iteracion\n",
        "\n",
        "\n",
        "```\n",
        "Lista =[1,2,3,4,5]\n",
        "for( variable) in lista:\n",
        "    Se repite len(lista)\n",
        "```\n",
        "\n",
        "\n",
        "\n",
        "\n",
        "\n",
        "\n"
      ],
      "metadata": {
        "id": "PvcelTgqQ53Y"
      }
    },
    {
      "cell_type": "code",
      "execution_count": null,
      "metadata": {
        "colab": {
          "base_uri": "https://localhost:8080/"
        },
        "id": "qhfubfaDKLkz",
        "outputId": "91d2a603-f82f-4db3-fd99-07f5f79d0893"
      },
      "outputs": [
        {
          "name": "stdout",
          "output_type": "stream",
          "text": [
            "digita un numero:7\n"
          ]
        }
      ],
      "source": [
        "#hacer la tabla de multiplicar de un umero n\n",
        "n=int(input(\"digita un numero:\"))"
      ]
    },
    {
      "cell_type": "code",
      "source": [
        "print(f\"tabla del {n}\")\n",
        "for holitas in range(1,11,1):\n",
        "    print(f\"{n} x {holitas} = {n*holitas}\")"
      ],
      "metadata": {
        "colab": {
          "base_uri": "https://localhost:8080/"
        },
        "id": "u15EFW2PT5Z-",
        "outputId": "5def29a5-ce4d-4d7c-a92b-21c8aca392f2"
      },
      "execution_count": null,
      "outputs": [
        {
          "output_type": "stream",
          "name": "stdout",
          "text": [
            "tabla del 7\n",
            "7 x 1 = 7\n",
            "7 x 2 = 14\n",
            "7 x 3 = 21\n",
            "7 x 4 = 28\n",
            "7 x 5 = 35\n",
            "7 x 6 = 42\n",
            "7 x 7 = 49\n",
            "7 x 8 = 56\n",
            "7 x 9 = 63\n",
            "7 x 10 = 70\n"
          ]
        }
      ]
    },
    {
      "cell_type": "code",
      "source": [
        "print (\"tablas de el 1 al 10\")\n",
        "for tabla in range ( 1,11,1):\n",
        "  print(f\"tabla del {tabla}\")\n",
        "    for numero in range (1,11):\n",
        "       print(f\"{tabla}x  {numero}  = {tabla*numero}\")\n",
        "       print(\"\")\n"
      ],
      "metadata": {
        "colab": {
          "base_uri": "https://localhost:8080/",
          "height": 106
        },
        "id": "dqQPSDrBWiSd",
        "outputId": "1d1b8a58-c18b-4d35-89e7-80c6422bf66e"
      },
      "execution_count": null,
      "outputs": [
        {
          "output_type": "error",
          "ename": "IndentationError",
          "evalue": "unexpected indent (ipython-input-388672093.py, line 4)",
          "traceback": [
            "\u001b[0;36m  File \u001b[0;32m\"/tmp/ipython-input-388672093.py\"\u001b[0;36m, line \u001b[0;32m4\u001b[0m\n\u001b[0;31m    for numero in range (1,11):\u001b[0m\n\u001b[0m    ^\u001b[0m\n\u001b[0;31mIndentationError\u001b[0m\u001b[0;31m:\u001b[0m unexpected indent\n"
          ]
        }
      ]
    },
    {
      "cell_type": "code",
      "source": [
        "print(f\"tabla del {n}\")\n",
        "for holitas in  range(10):\n",
        "  print(f\"{n} x {holitas+1} = {n*(holitas+1)}\")"
      ],
      "metadata": {
        "colab": {
          "base_uri": "https://localhost:8080/"
        },
        "id": "yCmQMeSeZKkL",
        "outputId": "ab817996-1ba6-4213-ac76-67a941af7b14"
      },
      "execution_count": null,
      "outputs": [
        {
          "output_type": "stream",
          "name": "stdout",
          "text": [
            "tabla del 7\n",
            "7 x 1 = 7\n",
            "7 x 2 = 14\n",
            "7 x 3 = 21\n",
            "7 x 4 = 28\n",
            "7 x 5 = 35\n",
            "7 x 6 = 42\n",
            "7 x 7 = 49\n",
            "7 x 8 = 56\n",
            "7 x 9 = 63\n",
            "7 x 10 = 70\n"
          ]
        }
      ]
    },
    {
      "cell_type": "code",
      "source": [
        "dahlia=3 #variable de tiempo numerico, int\n",
        "rosa=\"cinco\" #VAriable de tipo alfanumerico, str\n",
        "flores=[\"amapola\", \"tulipan\", \"lengua de suegra\", dahlia, rosa]"
      ],
      "metadata": {
        "id": "LrpaJIE3yya1"
      },
      "execution_count": null,
      "outputs": []
    },
    {
      "cell_type": "markdown",
      "source": [
        "4. Manual.\n",
        "\n",
        "\n",
        "```\n",
        "Lista2=[dato1, dato2, dato3...datoN]\n",
        "```\n",
        "5. Siempre son finitas\n",
        "6. SOn indexadas\n",
        "\n",
        "\n",
        "```\n",
        "Lista2=[dato1, dato2, dato3...datoN]\n",
        "\n",
        "```\n",
        "dato1 esta en el index 0\n",
        "dato2 esta ubicado en el index 1\n",
        "7. Estructuras **para** para la creacion de listas\n",
        "\n",
        "```\n",
        "#Ejemplo: Crear una lista de 5 elementos\n",
        "lista=[] #para que el programa sepa que es una lista\n",
        "for loquesea in range (5):\n",
        "   Lista=input(\"Ingrese el nombre de una flor\")\n",
        "\n",
        "```\n",
        "\n",
        "\n",
        "\n",
        "\n",
        "\n",
        "\n"
      ],
      "metadata": {
        "id": "uAaxpuuOzi2i"
      }
    },
    {
      "cell_type": "code",
      "source": [
        "Lista=[]\n",
        "for loquesea in range (5):\n",
        "   Lista=input(\"Ingrese el nombre de una flor\")"
      ],
      "metadata": {
        "id": "dMGt1MWb154o"
      },
      "execution_count": null,
      "outputs": []
    },
    {
      "cell_type": "code",
      "source": [
        "flores"
      ],
      "metadata": {
        "id": "T052WxT_2-vm"
      },
      "execution_count": null,
      "outputs": []
    },
    {
      "cell_type": "code",
      "source": [
        "#quiero saber quien esta en la primera posicion\n",
        "flores[0]"
      ],
      "metadata": {
        "id": "RCQNfd_U3Awu"
      },
      "execution_count": null,
      "outputs": []
    },
    {
      "cell_type": "markdown",
      "source": [
        "Saber quien esta en la ultima posicion"
      ],
      "metadata": {
        "id": "-R0drMXW3RLR"
      }
    },
    {
      "cell_type": "code",
      "source": [
        "flores[4]"
      ],
      "metadata": {
        "id": "NeQgCNjt3UKm"
      },
      "execution_count": null,
      "outputs": []
    },
    {
      "cell_type": "code",
      "source": [
        "len (flores)"
      ],
      "metadata": {
        "id": "B4TZxDxk3pFE"
      },
      "execution_count": null,
      "outputs": []
    },
    {
      "cell_type": "code",
      "source": [
        "flores[len(flores)-1]"
      ],
      "metadata": {
        "id": "JPeddnJ33q7O"
      },
      "execution_count": null,
      "outputs": []
    },
    {
      "cell_type": "code",
      "source": [
        "flores.indec(\"lengua de suegra\")"
      ],
      "metadata": {
        "id": "mNbFDdVh4Wqd"
      },
      "execution_count": null,
      "outputs": []
    },
    {
      "cell_type": "markdown",
      "source": [
        "ESTRUCTURAS DE REPETICION"
      ],
      "metadata": {
        "id": "fQVmCIzNARcC"
      }
    },
    {
      "cell_type": "markdown",
      "source": [
        "1."
      ],
      "metadata": {
        "id": "4h5la8y0_5wE"
      }
    },
    {
      "cell_type": "code",
      "source": [
        "numeros = [5, -3, 0]\n",
        "\n",
        "for n in numeros:\n",
        "    if n > 0:\n",
        "        print(f\"{n} es positivo\")\n",
        "    else:"
      ],
      "metadata": {
        "id": "HSRAM0Vk_6pT"
      },
      "execution_count": null,
      "outputs": []
    },
    {
      "cell_type": "markdown",
      "source": [
        "2."
      ],
      "metadata": {
        "id": "EeFBU9beATGx"
      }
    },
    {
      "cell_type": "code",
      "source": [
        "edades = [15, 20, 18]\n",
        "\n",
        "for edad in edades:\n",
        "    if edad >= 18:\n",
        "        print(f\"{edad} años → Mayor de edad\")\n",
        "    else:\n",
        "        print(f\"{edad} años → Menor de edad\")"
      ],
      "metadata": {
        "id": "yyi9_JyzAT4I"
      },
      "execution_count": null,
      "outputs": []
    },
    {
      "cell_type": "markdown",
      "source": [
        "3."
      ],
      "metadata": {
        "id": "i1Ob7QTyBwGG"
      }
    },
    {
      "cell_type": "code",
      "source": [],
      "metadata": {
        "id": "60uY-HhtBw-n"
      },
      "execution_count": null,
      "outputs": []
    },
    {
      "cell_type": "markdown",
      "source": [
        "4."
      ],
      "metadata": {
        "id": "pS8xU5jVAewp"
      }
    },
    {
      "cell_type": "code",
      "source": [
        "calificaciones = [59, 60, 85, 40]\n",
        "\n",
        "for c in calificaciones:\n",
        "    if c >= 60:\n",
        "        print(f\"{c} → Aprobado\")\n",
        "    else:\n",
        "        print(f\"{c} → Reprobado\")"
      ],
      "metadata": {
        "id": "DjXkCoptAfTU"
      },
      "execution_count": null,
      "outputs": []
    },
    {
      "cell_type": "markdown",
      "source": [
        "5."
      ],
      "metadata": {
        "id": "wlJcP1LvBJ52"
      }
    },
    {
      "cell_type": "code",
      "source": [
        "numeros = [2, 7, 10, 13]\n",
        "\n",
        "for n in numeros:\n",
        "    if n % 2 == 0:\n",
        "        print(f\"{n} es par\")\n",
        "    else:\n",
        "        print(f\"{n} es impar\")"
      ],
      "metadata": {
        "id": "G0G-zMmSBKXA"
      },
      "execution_count": null,
      "outputs": []
    },
    {
      "cell_type": "markdown",
      "source": [
        "6."
      ],
      "metadata": {
        "id": "CY-DNc2zBK-f"
      }
    },
    {
      "cell_type": "code",
      "source": [
        "trios = [(5, 9, 3), (10, 20, 15), (7, 7, 7)]\n",
        "\n",
        "for a, b, c in trios:\n",
        "    mayor = max([a, b, c])\n",
        "    print(f\"Entre {a}, {b}, {c} el mayor es {mayor}\")"
      ],
      "metadata": {
        "id": "6LVk_l1pBL_o"
      },
      "execution_count": null,
      "outputs": []
    },
    {
      "cell_type": "markdown",
      "source": [
        "7."
      ],
      "metadata": {
        "id": "tH8mxi6DBN6j"
      }
    },
    {
      "cell_type": "code",
      "source": [
        "años = [2020, 2021, 1900, 2000]\n",
        "\n",
        "for año in años:\n",
        "    if (año % 4 == 0 and año % 100 != 0) or (año % 400 == 0):\n",
        "        print(f\"{año} es bisiesto\")\n",
        "    else:\n",
        "        print(f\"{año} no es bisiesto\")"
      ],
      "metadata": {
        "id": "3gQyF3jtBOlI"
      },
      "execution_count": null,
      "outputs": []
    },
    {
      "cell_type": "markdown",
      "source": [
        "8."
      ],
      "metadata": {
        "id": "ZcIy3PqjBbPH"
      }
    },
    {
      "cell_type": "code",
      "source": [
        "contrasenas = [\"Hola123\", \"Password1\", \"ClaveSegura2025\", \"abc\"]\n",
        "\n",
        "for c in contrasenas:\n",
        "    if len(c) > 8 and any(ch.isdigit() for ch in c) and any(ch.isupper() for ch in c):\n",
        "        print(f\"{c} → Contraseña válida \")\n",
        "    else:\n",
        "        print(f\"{c} → Contraseña inválida \")"
      ],
      "metadata": {
        "id": "Y3AZxbDqBbxa"
      },
      "execution_count": null,
      "outputs": []
    },
    {
      "cell_type": "markdown",
      "source": [
        "9."
      ],
      "metadata": {
        "id": "8duWozRwBoa3"
      }
    },
    {
      "cell_type": "code",
      "source": [
        "numeros = [3, 5, 15, 7]\n",
        "\n",
        "for n in numeros:\n",
        "    if n % 3 == 0 and n % 5 == 0:\n",
        "        print(\"FizzBuzz\")\n",
        "    elif n % 3 == 0:\n",
        "        print(\"Fizz\")\n",
        "    elif n % 5 == 0:\n",
        "        print(\"Buzz\")\n",
        "    else:\n",
        "        print(n)"
      ],
      "metadata": {
        "id": "w58RcfOJBoIX"
      },
      "execution_count": null,
      "outputs": []
    },
    {
      "cell_type": "markdown",
      "source": [
        "10"
      ],
      "metadata": {
        "id": "XzSs2IDABssR"
      }
    },
    {
      "cell_type": "code",
      "source": [
        "saldo = 5000\n",
        "retiros = [1000, 6000, 2500]\n",
        "\n",
        "for monto in retiros:\n",
        "    if monto <= saldo:\n",
        "        saldo -= monto\n",
        "        print(f\"Retiro de {monto} exitoso. Saldo restante: {saldo}\")\n",
        "    else:\n",
        "        print(f\"No se puede retirar {monto}, saldo insuficiente ({saldo})\")"
      ],
      "metadata": {
        "id": "-1p_4qpVBtas"
      },
      "execution_count": null,
      "outputs": []
    }
  ]
}