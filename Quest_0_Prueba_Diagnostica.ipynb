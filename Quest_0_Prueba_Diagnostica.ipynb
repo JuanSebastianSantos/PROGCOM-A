{
  "nbformat": 4,
  "nbformat_minor": 0,
  "metadata": {
    "colab": {
      "provenance": [],
      "authorship_tag": "ABX9TyNXaRNDDSBd2PUWtunyAlNK",
      "include_colab_link": true
    },
    "kernelspec": {
      "name": "python3",
      "display_name": "Python 3"
    },
    "language_info": {
      "name": "python"
    }
  },
  "cells": [
    {
      "cell_type": "markdown",
      "metadata": {
        "id": "view-in-github",
        "colab_type": "text"
      },
      "source": [
        "<a href=\"https://colab.research.google.com/github/JuanSebastianSantos/PROGCOM-A/blob/main/Quest_0_Prueba_Diagnostica.ipynb\" target=\"_parent\"><img src=\"https://colab.research.google.com/assets/colab-badge.svg\" alt=\"Open In Colab\"/></a>"
      ]
    },
    {
      "cell_type": "markdown",
      "source": [
        "#prueba diagnostica"
      ],
      "metadata": {
        "id": "iseVDcxtKBUi"
      }
    },
    {
      "cell_type": "markdown",
      "source": [
        "1.escribe un programa que reciba un numero e indique si es positivo\n",
        "\n",
        "1. inico\n",
        "2. mostrar el mensaje : \"insertar el numero\"\n",
        "3. leer la respuesta de el punto 2\n",
        "4. si es mayor a 0 : decir que es positivo\n",
        "5. si es menor a 0 : decir que es negativo\n",
        "6. fin\n",
        "\n",
        "\n"
      ],
      "metadata": {
        "id": "QdQxgLQvV5kh"
      }
    },
    {
      "cell_type": "markdown",
      "source": [
        "2.escribir un programa que reciba una edad y dertmie si la persona es mayor de edad o no\n",
        "1. inicio\n",
        "2. mostrar cuadro para ingresar edad\n",
        "3. leer el resultado dado en el paso 2\n",
        "4. si es mayor o igual a 28: decir que es mayor de edad\n",
        "5. si es menor a 18 : decir que es menor\n",
        "6. fin"
      ],
      "metadata": {
        "id": "Rpt-P1jxX9_x"
      }
    },
    {
      "cell_type": "markdown",
      "source": [
        "3 escriba un programa que reciba dos numero e imprima el mayor\n",
        "\n",
        "1. inicio\n",
        "2. mostar cuadro para ingresar el primer numero\n",
        "3. leer valor de el numero 1\n",
        "4. mostrar cuadro para inresar segundo numer\n",
        "5. leer valor de el numero 2\n",
        "6. si el prier numero dado es mayor al 2 decir : numero mayor\n",
        "7. si el segundo numero dado es mneor al 1 decir : es menor\n",
        "8. fin"
      ],
      "metadata": {
        "id": "xRdkZXkiY4vI"
      }
    },
    {
      "cell_type": "code",
      "execution_count": null,
      "metadata": {
        "id": "OSaH9F_kJTBp"
      },
      "outputs": [],
      "source": []
    },
    {
      "cell_type": "markdown",
      "source": [],
      "metadata": {
        "id": "YC7eyWuuaVle"
      }
    },
    {
      "cell_type": "markdown",
      "source": [],
      "metadata": {
        "id": "riN9-fufaVUW"
      }
    }
  ]
}