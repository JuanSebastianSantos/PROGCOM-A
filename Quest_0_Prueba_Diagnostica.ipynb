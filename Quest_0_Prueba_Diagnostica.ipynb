{
  "nbformat": 4,
  "nbformat_minor": 0,
  "metadata": {
    "colab": {
      "provenance": []
    },
    "kernelspec": {
      "name": "python3",
      "display_name": "Python 3"
    },
    "language_info": {
      "name": "python"
    }
  },
  "cells": [
    {
      "cell_type": "markdown",
      "source": [
        "#prueba diagnostica"
      ],
      "metadata": {
        "id": "iseVDcxtKBUi"
      }
    },
    {
      "cell_type": "markdown",
      "source": [
        "##Estructura de seleccion\n",
        "\n",
        "```\n",
        "si ( condicion) entonces:\n",
        "   o´ppasan cosas divertidas\n",
        "sino:\n",
        "   llorelo\n",
        "```\n",
        "\n"
      ],
      "metadata": {
        "id": "y0TXp-akLVHh"
      }
    },
    {
      "cell_type": "code",
      "execution_count": null,
      "metadata": {
        "id": "OSaH9F_kJTBp"
      },
      "outputs": [],
      "source": []
    }
  ]
}