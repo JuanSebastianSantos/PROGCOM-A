{
  "nbformat": 4,
  "nbformat_minor": 0,
  "metadata": {
    "colab": {
      "provenance": [],
      "authorship_tag": "ABX9TyMusxtjaKWmCsMJMNEkfQ+2",
      "include_colab_link": true
    },
    "kernelspec": {
      "name": "python3",
      "display_name": "Python 3"
    },
    "language_info": {
      "name": "python"
    }
  },
  "cells": [
    {
      "cell_type": "markdown",
      "metadata": {
        "id": "view-in-github",
        "colab_type": "text"
      },
      "source": [
        "<a href=\"https://colab.research.google.com/github/JuanSebastianSantos/PROGCOM-A/blob/main/cq8.ipynb\" target=\"_parent\"><img src=\"https://colab.research.google.com/assets/colab-badge.svg\" alt=\"Open In Colab\"/></a>"
      ]
    },
    {
      "cell_type": "code",
      "execution_count": null,
      "metadata": {
        "id": "cQoI3TDP6EeT"
      },
      "outputs": [],
      "source": [
        "1. KeyError\n",
        "Este error se produce cuando la clave no esta agregada al diccionario\n",
        "\n",
        "\n",
        "wewe={\"agua\": 20 ,\"pollo\": 70}\n",
        "print(wewe[\"sushi\"])\n",
        "\n",
        "---------------------------------------------------------------------------\n",
        "KeyError                                  Traceback (most recent call last)\n",
        "/tmp/ipython-input-388399890.py in <cell line: 0>()\n",
        "      1 wewe={\"agua\": 20 ,\"pollo\": 70}\n",
        "----> 2 print(wewe[\"sushi\"])\n",
        "\n",
        "KeyError: 'sushi'\n",
        "\n",
        "wewe={\"agua\": 20 ,\"pollo\": 70}\n",
        "print(wewe.get(\"sushi\",\"no hay\"))\n",
        "\n",
        "no hay"
      ]
    },
    {
      "cell_type": "code",
      "source": [
        "2. IndexError\n",
        "El error se produce cuando la indice esta fuera del rango de la lista\n",
        "\n",
        "\n",
        "n = [1,2,3]\n",
        "print(n[5])\n",
        "\n",
        "---------------------------------------------------------------------------\n",
        "IndexError                                Traceback (most recent call last)\n",
        "/tmp/ipython-input-3807601781.py in <cell line: 0>()\n",
        "      1 n = [1,2,3]\n",
        "----> 2 print(n[5])\n",
        "\n",
        "IndexError: list index out of range\n",
        "\n",
        "n = [1,2,3]\n",
        "if len(n) > 5:\n",
        "  print(n[5])\n",
        "else:\n",
        "  print(\"no esta en la lista\")\n",
        "\n",
        "no esta en la lista"
      ],
      "metadata": {
        "id": "w_h1UUXG6fux"
      },
      "execution_count": null,
      "outputs": []
    },
    {
      "cell_type": "code",
      "source": [
        "3.TypeError\n",
        "El error se produce cuando se usa incorrectamente la integración de variables en un str\n",
        "\n",
        "\n",
        "edad = 25\n",
        "print(\"tengo\" + edad + \"años\")\n",
        "\n",
        "---------------------------------------------------------------------------\n",
        "TypeError                                 Traceback (most recent call last)\n",
        "/tmp/ipython-input-231223683.py in <cell line: 0>()\n",
        "      1 edad = 25\n",
        "----> 2 print(\"tengo\" + edad + \"años\")\n",
        "\n",
        "TypeError: can only concatenate str (not \"int\") to str\n",
        "\n",
        "edad = 25\n",
        "print(f\"tengo {edad} años\")\n",
        "\n",
        "tengo 25 años"
      ],
      "metadata": {
        "id": "ui6qbUla6i7S"
      },
      "execution_count": null,
      "outputs": []
    },
    {
      "cell_type": "code",
      "source": [
        "4.NameError\n",
        "El error se produce cuando una variable no esta definida o esta mal escrita\n",
        "\n",
        "\n",
        "print(resultado)\n",
        "\n",
        "---------------------------------------------------------------------------\n",
        "NameError                                 Traceback (most recent call last)\n",
        "/tmp/ipython-input-2001690993.py in <cell line: 0>()\n",
        "----> 1 print(resultado)\n",
        "\n",
        "NameError: name 'resultado' is not defined\n",
        "\n",
        "resultado=192\n",
        "print(resultado)\n",
        "\n",
        "192"
      ],
      "metadata": {
        "id": "1YPVTAr36nUo"
      },
      "execution_count": null,
      "outputs": []
    },
    {
      "cell_type": "markdown",
      "source": [],
      "metadata": {
        "id": "gu6xeOmT6riz"
      }
    },
    {
      "cell_type": "code",
      "source": [
        "5 IndentationError\n",
        "El error se produjo cuando no se deja la identación(espacio) despues de dos puntos\n",
        "\n",
        "\n",
        "def woli():\n",
        "print(\"hola\")\n",
        "woli()\n",
        "\n",
        "  File \"/tmp/ipython-input-1635377708.py\", line 2\n",
        "    print(\"hola\")\n",
        "    ^\n",
        "IndentationError: expected an indented block after function definition on line 1\n",
        "\n",
        "def woli():\n",
        "  print(\"hola\")\n",
        "woli()\n",
        "\n",
        "hola"
      ],
      "metadata": {
        "id": "a19JgxoZ6sSd"
      },
      "execution_count": null,
      "outputs": []
    }
  ]
}